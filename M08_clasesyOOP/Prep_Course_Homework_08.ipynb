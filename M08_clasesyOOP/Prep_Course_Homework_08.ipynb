{
 "cells": [
  {
   "attachments": {},
   "cell_type": "markdown",
   "metadata": {},
   "source": [
    "## Clases y Programación Orientada a Objetos"
   ]
  },
  {
   "attachments": {},
   "cell_type": "markdown",
   "metadata": {},
   "source": [
    "1) Crear la clase vehículo que contenga los atributos:<br>\n",
    "Color<br>\n",
    "Si es moto, auto, camioneta ó camión<br>\n",
    "Cilindrada del motor"
   ]
  },
  {
   "cell_type": "code",
   "execution_count": 1,
   "metadata": {},
   "outputs": [],
   "source": [
    "class Vehiculo:\n",
    "    def __init__(self, color, tipo, cilindrada):\n",
    "        self.color = color\n",
    "        self.tipo = tipo\n",
    "        self.cilinidrada = cilindrada"
   ]
  },
  {
   "attachments": {},
   "cell_type": "markdown",
   "metadata": {},
   "source": [
    "2) A la clase Vehiculo creada en el punto 1, agregar los siguientes métodos:<br>\n",
    "Acelerar<br>\n",
    "Frenar<br>\n",
    "Doblar<br>"
   ]
  },
  {
   "cell_type": "code",
   "execution_count": 2,
   "metadata": {},
   "outputs": [],
   "source": [
    "class Vehiculo:\n",
    "    def __init__(self, color, tipo, cilindrada):\n",
    "        self.color = color\n",
    "        self.tipo = tipo\n",
    "        self.cilinidrada = cilindrada\n",
    "        self.velocidad = 0\n",
    "        self.direccion = 0\n",
    "\n",
    "    def Acelerar(self, valor):        \n",
    "        self.velocidad += valor\n",
    "        if self.velocidad > 120:\n",
    "            self.velocidad = 120\n",
    "\n",
    "    def Frenar(self, valor):\n",
    "        self.velocidad -= valor\n",
    "        if self.velocidad < 0:\n",
    "            self.velocidad = 0\n",
    "\n",
    "    def Doblar(self, valor):\n",
    "        self.direccion += valor\n",
    "        if self.direccion > 45:\n",
    "            self.direccion = 45\n",
    "        elif self.direccion < 0:\n",
    "            self.direccion = 0\n",
    "        "
   ]
  },
  {
   "attachments": {},
   "cell_type": "markdown",
   "metadata": {},
   "source": [
    "3) Instanciar 3 objetos de la clase vehículo y ejecutar sus métodos, probar luego el resultado"
   ]
  },
  {
   "cell_type": "code",
   "execution_count": 3,
   "metadata": {},
   "outputs": [],
   "source": [
    "carro = Vehiculo('Negro', 'Sedan', 1200)"
   ]
  },
  {
   "attachments": {},
   "cell_type": "markdown",
   "metadata": {},
   "source": [
    "4) Agregar a la clase Vehiculo, un método que muestre su estado, es decir, a que velocidad se encuentra y su dirección. Y otro método que muestre color, tipo y cilindrada"
   ]
  },
  {
   "cell_type": "code",
   "execution_count": 1,
   "metadata": {},
   "outputs": [],
   "source": [
    "class Vehiculo:\n",
    "    def __init__(self, color, tipo, cilindrada):\n",
    "        self.color = color\n",
    "        self.tipo = tipo\n",
    "        self.cilinidrada = cilindrada\n",
    "        self.velocidad = 0\n",
    "        self.direccion = 0\n",
    "\n",
    "    def Acelerar(self, valor):        \n",
    "        self.velocidad += valor\n",
    "        if self.velocidad > 120:\n",
    "            self.velocidad = 120\n",
    "\n",
    "    def Frenar(self, valor):\n",
    "        self.velocidad -= valor\n",
    "        if self.velocidad < 0:\n",
    "            self.velocidad = 0\n",
    "\n",
    "    def Doblar(self, valor):\n",
    "        self.direccion += valor\n",
    "        if self.direccion > 45:\n",
    "            self.direccion = 45\n",
    "        elif self.direccion < 0:\n",
    "            self.direccion = 0\n",
    "\n",
    "    def Estado(self):\n",
    "        return {\n",
    "            'Velocidad': self.velocidad,\n",
    "            'Dirección': self.direccion\n",
    "        }\n",
    "    \n",
    "    def Caracteristicas(self):\n",
    "        return {\n",
    "            'Color': self.color,\n",
    "            'Tipo': self.tipo,\n",
    "            'Cilindrada': self.cilinidrada\n",
    "        }"
   ]
  },
  {
   "cell_type": "code",
   "execution_count": 7,
   "metadata": {},
   "outputs": [
    {
     "data": {
      "text/plain": [
       "{'Velocidad': 25, 'Dirección': 0}"
      ]
     },
     "execution_count": 7,
     "metadata": {},
     "output_type": "execute_result"
    }
   ],
   "source": [
    "carro = Vehiculo('Blanco', 'Coupe', 1200)\n",
    "carro.Acelerar(25)\n",
    "carro.Estado()"
   ]
  },
  {
   "attachments": {},
   "cell_type": "markdown",
   "metadata": {},
   "source": [
    "5) Crear una clase que permita utilizar las funciones creadas en la práctica del módulo 7<br>\n",
    "Verificar Primo<br>\n",
    "Valor modal<br>\n",
    "Conversión grados<br>\n",
    "Factorial<br>"
   ]
  },
  {
   "cell_type": "code",
   "execution_count": 1,
   "metadata": {},
   "outputs": [],
   "source": [
    "class Utilidades:\n",
    "    def __init__(self) -> None:\n",
    "        pass\n",
    "\n",
    "    def Primo(self, num):\n",
    "        if num < 2:\n",
    "            return False\n",
    "        else:\n",
    "            for i in range(2, num):\n",
    "                if num % i == 0:\n",
    "                    return False\n",
    "            return True\n",
    "        \n",
    "    def Repetidos(self, lista):\n",
    "        dictNum = {}\n",
    "        #Aqui se almacenan cuantas veces se repiten los valores.\n",
    "        for key in lista:\n",
    "            if key in dictNum:\n",
    "                dictNum[key] += 1\n",
    "            else:\n",
    "                dictNum[key] = 1\n",
    "        #Convertimos las claves a valores a las listas\n",
    "        keysLista = list(dictNum.keys())\n",
    "        valuesLista = list(dictNum.values())\n",
    "        #Establecemos como maximo el primer valor\n",
    "        moda = keysLista[0]\n",
    "        maximo = valuesLista[0]\n",
    "        #Aqui buscamos cual es el que más se repite\n",
    "        for i, element in enumerate(valuesLista):\n",
    "            if element > maximo:\n",
    "                moda = keysLista[i]\n",
    "                maximo = element\n",
    "        return moda, maximo\n",
    "    \n",
    "    def ConversorTemperatura(self, valor, origen, destino):\n",
    "        temp = 0\n",
    "        if origen == 'Celsius':\n",
    "            if destino == 'Fahrenheit':\n",
    "                temp = 32 + (valor * 9/5)\n",
    "            elif destino == 'Kelvin':\n",
    "                temp = 273.15 + valor\n",
    "            else:\n",
    "                return 'Destino ingresado incorrecto -> ' + destino\n",
    "        elif origen == 'Fahrenheit':\n",
    "            if destino == 'Celsius':\n",
    "                temp = 5/9 * (valor - 32)\n",
    "            elif destino == 'Kelvin':\n",
    "                temp = 273.15 + 5/9 * (valor - 32)\n",
    "            else:\n",
    "                return 'Destino ingresado incorrecto - > ' + destino\n",
    "        elif origen == 'Kelvin':\n",
    "            if destino == 'Celsius':\n",
    "                temp = valor - 273.15\n",
    "            elif destino == 'Fahrenheit':\n",
    "                temp = 32 + 9/5 * (valor - 273.15)\n",
    "            else:\n",
    "                return 'Destino ingresado incorrecto -> ' + destino\n",
    "        else:\n",
    "            return 'Origen ingresado incorrecto -> ' + origen\n",
    "        return round(temp, 3)\n",
    "    \n",
    "    def Factorial(self, num):\n",
    "        if type(num) == int:\n",
    "            if num < 0:\n",
    "                return 'El número debe ser positivo.'\n",
    "            else:\n",
    "                if num == 0:\n",
    "                    return 1\n",
    "                else:\n",
    "                    num *= self.Factorial(num - 1)\n",
    "            return num\n",
    "        else:\n",
    "            return 'El valor ingresado debe ser de tipo entero.'"
   ]
  },
  {
   "attachments": {},
   "cell_type": "markdown",
   "metadata": {},
   "source": [
    "6) Probar las funciones incorporadas en la clase del punto 5"
   ]
  },
  {
   "cell_type": "code",
   "execution_count": 2,
   "metadata": {},
   "outputs": [],
   "source": [
    "valor = Utilidades()"
   ]
  },
  {
   "cell_type": "code",
   "execution_count": 3,
   "metadata": {},
   "outputs": [
    {
     "data": {
      "text/plain": [
       "False"
      ]
     },
     "execution_count": 3,
     "metadata": {},
     "output_type": "execute_result"
    }
   ],
   "source": [
    "valor.Primo(9)"
   ]
  },
  {
   "cell_type": "code",
   "execution_count": 4,
   "metadata": {},
   "outputs": [
    {
     "data": {
      "text/plain": [
       "(5, 3)"
      ]
     },
     "execution_count": 4,
     "metadata": {},
     "output_type": "execute_result"
    }
   ],
   "source": [
    "lis = [1,1,5,6,8,10,22,5,6,4,11,9,5]\n",
    "\n",
    "valor.Repetidos(lis)"
   ]
  },
  {
   "cell_type": "code",
   "execution_count": 5,
   "metadata": {},
   "outputs": [
    {
     "data": {
      "text/plain": [
       "-258.15"
      ]
     },
     "execution_count": 5,
     "metadata": {},
     "output_type": "execute_result"
    }
   ],
   "source": [
    "valor.ConversorTemperatura(15, 'Kelvin', 'Celsius')"
   ]
  },
  {
   "cell_type": "code",
   "execution_count": 6,
   "metadata": {},
   "outputs": [
    {
     "data": {
      "text/plain": [
       "24"
      ]
     },
     "execution_count": 6,
     "metadata": {},
     "output_type": "execute_result"
    }
   ],
   "source": [
    "valor.Factorial(4)"
   ]
  },
  {
   "attachments": {},
   "cell_type": "markdown",
   "metadata": {},
   "source": [
    "7) Es necesario que la clase creada en el punto 5 contenga una lista, sobre la cual se apliquen las funciones incorporadas"
   ]
  },
  {
   "cell_type": "code",
   "execution_count": 6,
   "metadata": {},
   "outputs": [],
   "source": [
    "class Utilidades:\n",
    "    def __init__(self, lista):\n",
    "        self.lista = lista\n",
    "\n",
    "    #--------------------------------------------------\n",
    "    def listPrimo(self):\n",
    "        for value in self.lista:\n",
    "            print(self.__Primo(value))\n",
    "\n",
    "    def __Primo(self, num):\n",
    "        if num < 2:\n",
    "            return False\n",
    "        else:\n",
    "            for i in range(2, num):\n",
    "                if num % i == 0:\n",
    "                    return False\n",
    "            return True\n",
    "    \n",
    "    #---------------------------------------------------- \n",
    "    def listRepetidos(self):\n",
    "        print(self.__Repetidos(self.lista))\n",
    "        \n",
    "    def __Repetidos(self, lista):\n",
    "        dictNum = {}\n",
    "        #Aqui se almacenan cuantas veces se repiten los valores.\n",
    "        for key in lista:\n",
    "            if key in dictNum:\n",
    "                dictNum[key] += 1\n",
    "            else:\n",
    "                dictNum[key] = 1\n",
    "        #Convertimos las claves a valores a las listas\n",
    "        keysLista = list(dictNum.keys())\n",
    "        valuesLista = list(dictNum.values())\n",
    "        #Establecemos como maximo el primer valor\n",
    "        moda = keysLista[0]\n",
    "        maximo = valuesLista[0]\n",
    "        #Aqui buscamos cual es el que más se repite\n",
    "        for i, element in enumerate(valuesLista):\n",
    "            if element > maximo:\n",
    "                moda = keysLista[i]\n",
    "                maximo = element\n",
    "        return moda, maximo\n",
    "    \n",
    "    #--------------------------------------------------------------\n",
    "    def listConversorTemperatura(self):\n",
    "        for value in self.lista:\n",
    "            print(f'{value} de Celsius a Kelvin -> {self.__ConversorTemperatura(value, 'Celsius', 'Kelvin')}')\n",
    "\n",
    "    def __ConversorTemperatura(self, valor, origen, destino):\n",
    "        temp = 0\n",
    "        if origen == 'Celsius':\n",
    "            if destino == 'Fahrenheit':\n",
    "                temp = 32 + (valor * 9/5)\n",
    "            elif destino == 'Kelvin':\n",
    "                temp = 273.15 + valor\n",
    "            else:\n",
    "                return 'Destino ingresado incorrecto -> ' + destino\n",
    "        elif origen == 'Fahrenheit':\n",
    "            if destino == 'Celsius':\n",
    "                temp = 5/9 * (valor - 32)\n",
    "            elif destino == 'Kelvin':\n",
    "                temp = 273.15 + 5/9 * (valor - 32)\n",
    "            else:\n",
    "                return 'Destino ingresado incorrecto - > ' + destino\n",
    "        elif origen == 'Kelvin':\n",
    "            if destino == 'Celsius':\n",
    "                temp = valor - 273.15\n",
    "            elif destino == 'Fahrenheit':\n",
    "                temp = 32 + 9/5 * (valor - 273.15)\n",
    "            else:\n",
    "                return 'Destino ingresado incorrecto -> ' + destino\n",
    "        else:\n",
    "            return 'Origen ingresado incorrecto -> ' + origen\n",
    "        return round(temp, 3)\n",
    "    \n",
    "    #-------------------------------------------------------\n",
    "    def listFactorial(self):\n",
    "        for value in self.lista:\n",
    "            print(f'{value}! -> {self.__Factorial(value)}')\n",
    "\n",
    "    def __Factorial(self, num):\n",
    "        if type(num) == int:\n",
    "            if num < 0:\n",
    "                return 'El número debe ser positivo.'\n",
    "            else:\n",
    "                if num == 0:\n",
    "                    return 1\n",
    "                else:\n",
    "                    num *= self.__Factorial(num - 1)\n",
    "            return num\n",
    "        else:\n",
    "            return 'El valor ingresado debe ser de tipo entero.'"
   ]
  },
  {
   "cell_type": "code",
   "execution_count": 7,
   "metadata": {},
   "outputs": [],
   "source": [
    "ft = Utilidades([1,1,2,5,8,8,9,11,15,16,16,16,18,20])"
   ]
  },
  {
   "cell_type": "code",
   "execution_count": 8,
   "metadata": {},
   "outputs": [
    {
     "name": "stdout",
     "output_type": "stream",
     "text": [
      "False\n",
      "False\n",
      "True\n",
      "True\n",
      "False\n",
      "False\n",
      "False\n",
      "True\n",
      "False\n",
      "False\n",
      "False\n",
      "False\n",
      "False\n",
      "False\n"
     ]
    }
   ],
   "source": [
    "ft.listPrimo()"
   ]
  },
  {
   "cell_type": "code",
   "execution_count": 9,
   "metadata": {},
   "outputs": [
    {
     "name": "stdout",
     "output_type": "stream",
     "text": [
      "(16, 3)\n"
     ]
    }
   ],
   "source": [
    "ft.listRepetidos()"
   ]
  },
  {
   "cell_type": "code",
   "execution_count": 10,
   "metadata": {},
   "outputs": [
    {
     "name": "stdout",
     "output_type": "stream",
     "text": [
      "1 de Celsius a Kelvin -> 274.15\n",
      "1 de Celsius a Kelvin -> 274.15\n",
      "2 de Celsius a Kelvin -> 275.15\n",
      "5 de Celsius a Kelvin -> 278.15\n",
      "8 de Celsius a Kelvin -> 281.15\n",
      "8 de Celsius a Kelvin -> 281.15\n",
      "9 de Celsius a Kelvin -> 282.15\n",
      "11 de Celsius a Kelvin -> 284.15\n",
      "15 de Celsius a Kelvin -> 288.15\n",
      "16 de Celsius a Kelvin -> 289.15\n",
      "16 de Celsius a Kelvin -> 289.15\n",
      "16 de Celsius a Kelvin -> 289.15\n",
      "18 de Celsius a Kelvin -> 291.15\n",
      "20 de Celsius a Kelvin -> 293.15\n"
     ]
    }
   ],
   "source": [
    "ft.listConversorTemperatura()"
   ]
  },
  {
   "cell_type": "code",
   "execution_count": 11,
   "metadata": {},
   "outputs": [
    {
     "name": "stdout",
     "output_type": "stream",
     "text": [
      "1! -> 1\n",
      "1! -> 1\n",
      "2! -> 2\n",
      "5! -> 120\n",
      "8! -> 40320\n",
      "8! -> 40320\n",
      "9! -> 362880\n",
      "11! -> 39916800\n",
      "15! -> 1307674368000\n",
      "16! -> 20922789888000\n",
      "16! -> 20922789888000\n",
      "16! -> 20922789888000\n",
      "18! -> 6402373705728000\n",
      "20! -> 2432902008176640000\n"
     ]
    }
   ],
   "source": [
    "ft.listFactorial()"
   ]
  },
  {
   "attachments": {},
   "cell_type": "markdown",
   "metadata": {},
   "source": [
    "8) Crear un archivo .py aparte y ubicar allí la clase generada en el punto anterior. Luego realizar la importación del módulo y probar alguna de sus funciones"
   ]
  },
  {
   "cell_type": "code",
   "execution_count": 12,
   "metadata": {},
   "outputs": [],
   "source": [
    "from utilidades import *"
   ]
  },
  {
   "cell_type": "code",
   "execution_count": 14,
   "metadata": {},
   "outputs": [],
   "source": [
    "utl = Utilidades([1,4,5,9,8,7,4,3])"
   ]
  },
  {
   "cell_type": "code",
   "execution_count": 15,
   "metadata": {},
   "outputs": [
    {
     "name": "stdout",
     "output_type": "stream",
     "text": [
      "False\n",
      "False\n",
      "True\n",
      "False\n",
      "False\n",
      "True\n",
      "False\n",
      "True\n"
     ]
    }
   ],
   "source": [
    "utl.listPrimo()"
   ]
  }
 ],
 "metadata": {
  "interpreter": {
   "hash": "c85384e4cb51c8b72350f3a8712cc8351fdc3955e32a27f9b60c6242ab125f01"
  },
  "kernelspec": {
   "display_name": "Python 3 (ipykernel)",
   "language": "python",
   "name": "python3"
  },
  "language_info": {
   "codemirror_mode": {
    "name": "ipython",
    "version": 3
   },
   "file_extension": ".py",
   "mimetype": "text/x-python",
   "name": "python",
   "nbconvert_exporter": "python",
   "pygments_lexer": "ipython3",
   "version": "3.12.0"
  }
 },
 "nbformat": 4,
 "nbformat_minor": 4
}
