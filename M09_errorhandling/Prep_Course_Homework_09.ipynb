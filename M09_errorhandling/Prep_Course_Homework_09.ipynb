{
 "cells": [
  {
   "attachments": {},
   "cell_type": "markdown",
   "metadata": {},
   "source": [
    "## Manejo de errores"
   ]
  },
  {
   "attachments": {},
   "cell_type": "markdown",
   "metadata": {},
   "source": [
    "1) Con la clase creada en el módulo 7, tener en cuenta diferentes casos en que el código pudiera arrojar error. Por ejemplo, en la creación del objeto recibimos una lista de números enteros pero ¿qué pasa si se envía otro tipo de dato?"
   ]
  },
  {
   "cell_type": "code",
   "execution_count": 14,
   "metadata": {},
   "outputs": [],
   "source": [
    "import sys\n",
    "sys.path.append(r'../M08_clasesyOOP/')"
   ]
  },
  {
   "cell_type": "code",
   "execution_count": 15,
   "metadata": {},
   "outputs": [],
   "source": [
    "import utilidades as utl"
   ]
  },
  {
   "cell_type": "code",
   "execution_count": 16,
   "metadata": {},
   "outputs": [
    {
     "ename": "ValueError",
     "evalue": "Se ha creado una lista vacia, por favor ingresar un valor de tipo lista.",
     "output_type": "error",
     "traceback": [
      "\u001b[1;31m---------------------------------------------------------------------------\u001b[0m",
      "\u001b[1;31mValueError\u001b[0m                                Traceback (most recent call last)",
      "\u001b[1;32mc:\\Users\\fesco\\OneDrive\\Documentos\\SoyHenry\\PrepCourse\\Python-Prep\\M09_errorhandling\\Prep_Course_Homework_09.ipynb Cell 5\u001b[0m line \u001b[0;36m1\n\u001b[1;32m----> <a href='vscode-notebook-cell:/c%3A/Users/fesco/OneDrive/Documentos/SoyHenry/PrepCourse/Python-Prep/M09_errorhandling/Prep_Course_Homework_09.ipynb#W4sZmlsZQ%3D%3D?line=0'>1</a>\u001b[0m tp \u001b[39m=\u001b[39m utl\u001b[39m.\u001b[39;49mHerramientas(\u001b[39m'\u001b[39;49m\u001b[39mp\u001b[39;49m\u001b[39m'\u001b[39;49m)\n",
      "File \u001b[1;32mc:\\Users\\fesco\\OneDrive\\Documentos\\SoyHenry\\PrepCourse\\Python-Prep\\M09_errorhandling\\../M08_clasesyOOP\\utilidades.py:5\u001b[0m, in \u001b[0;36mHerramientas.__init__\u001b[1;34m(self, awayList)\u001b[0m\n\u001b[0;32m      3\u001b[0m \u001b[39mif\u001b[39;00m (\u001b[39mtype\u001b[39m(awayList) \u001b[39m!=\u001b[39m \u001b[39mlist\u001b[39m):\n\u001b[0;32m      4\u001b[0m     \u001b[39mself\u001b[39m\u001b[39m.\u001b[39mmyList \u001b[39m=\u001b[39m []\n\u001b[1;32m----> 5\u001b[0m     \u001b[39mraise\u001b[39;00m \u001b[39mValueError\u001b[39;00m(\u001b[39m'\u001b[39m\u001b[39mSe ha creado una lista vacia, por favor ingresar un valor de tipo lista.\u001b[39m\u001b[39m'\u001b[39m)\n\u001b[0;32m      6\u001b[0m \u001b[39melse\u001b[39;00m:\n\u001b[0;32m      7\u001b[0m     \u001b[39mself\u001b[39m\u001b[39m.\u001b[39mmyList \u001b[39m=\u001b[39m awayList\n",
      "\u001b[1;31mValueError\u001b[0m: Se ha creado una lista vacia, por favor ingresar un valor de tipo lista."
     ]
    }
   ],
   "source": [
    "tp = utl.Herramientas('p')"
   ]
  },
  {
   "cell_type": "code",
   "execution_count": 17,
   "metadata": {},
   "outputs": [],
   "source": [
    "tp = utl.Herramientas([1,1,5,6,8,10,22,5,6,4,11,9,5])"
   ]
  },
  {
   "attachments": {},
   "cell_type": "markdown",
   "metadata": {},
   "source": [
    "2) En la función que hace la conversión de grados, validar que los parámetros enviados sean los esperados, de no serlo, informar cuáles son los valores esperados."
   ]
  },
  {
   "cell_type": "code",
   "execution_count": 18,
   "metadata": {},
   "outputs": [
    {
     "name": "stdout",
     "output_type": "stream",
     "text": [
      "Origen y Destino ingresado invalido, se esperaba ['Celsius', 'Fahrenheit', 'Kelvin']\n"
     ]
    },
    {
     "data": {
      "text/plain": [
       "[]"
      ]
     },
     "execution_count": 18,
     "metadata": {},
     "output_type": "execute_result"
    }
   ],
   "source": [
    "tp.listConversorTemperatura('p', 'o')"
   ]
  },
  {
   "cell_type": "code",
   "execution_count": 19,
   "metadata": {},
   "outputs": [
    {
     "name": "stdout",
     "output_type": "stream",
     "text": [
      "Origen ingresado invalido, se esperaba ['Celsius', 'Fahrenheit', 'Kelvin']\n"
     ]
    },
    {
     "data": {
      "text/plain": [
       "[]"
      ]
     },
     "execution_count": 19,
     "metadata": {},
     "output_type": "execute_result"
    }
   ],
   "source": [
    "tp.listConversorTemperatura('i', 'Celsius')"
   ]
  },
  {
   "cell_type": "code",
   "execution_count": 20,
   "metadata": {},
   "outputs": [
    {
     "name": "stdout",
     "output_type": "stream",
     "text": [
      "Destino ingresado invalido, se esperaba ['Celsius', 'Fahrenheit', 'Kelvin']\n"
     ]
    },
    {
     "data": {
      "text/plain": [
       "[]"
      ]
     },
     "execution_count": 20,
     "metadata": {},
     "output_type": "execute_result"
    }
   ],
   "source": [
    "tp.listConversorTemperatura('Kelvin', 'j')"
   ]
  },
  {
   "cell_type": "code",
   "execution_count": 21,
   "metadata": {},
   "outputs": [
    {
     "data": {
      "text/plain": [
       "[[1, -272.15],\n",
       " [1, -272.15],\n",
       " [5, -268.15],\n",
       " [6, -267.15],\n",
       " [8, -265.15],\n",
       " [10, -263.15],\n",
       " [22, -251.15],\n",
       " [5, -268.15],\n",
       " [6, -267.15],\n",
       " [4, -269.15],\n",
       " [11, -262.15],\n",
       " [9, -264.15],\n",
       " [5, -268.15]]"
      ]
     },
     "execution_count": 21,
     "metadata": {},
     "output_type": "execute_result"
    }
   ],
   "source": [
    "tp.listConversorTemperatura('Kelvin', 'Celsius')"
   ]
  },
  {
   "attachments": {},
   "cell_type": "markdown",
   "metadata": {},
   "source": [
    "3) Importar el modulo \"unittest\" y crear los siguientes casos de pruebas sobre la clase utilizada en el punto 2<br>\n",
    "Creacion del objeto incorrecta<br>\n",
    "Creacion correcta del objeto<br>\n",
    "Metodo valor_modal()<br>\n",
    "\n",
    "Se puede usar \"raise ValueError()\" en la creación de la clase para verificar el error. Investigar sobre esta funcionalidad."
   ]
  },
  {
   "cell_type": "code",
   "execution_count": 22,
   "metadata": {},
   "outputs": [],
   "source": [
    "import unittest"
   ]
  },
  {
   "cell_type": "code",
   "execution_count": 23,
   "metadata": {},
   "outputs": [],
   "source": [
    "class PruebaUtilidades(unittest.TestCase):\n",
    "    def test_Prueba1(self): #Test para verificar si hay entrada de datos.\n",
    "        value = 'Python'\n",
    "        self.assertRaises(ValueError, utl.Herramientas, value)\n",
    "\n",
    "    def test_Prueba2(self): #Test que verifica si el valor ingresado es el correcto.\n",
    "        value = [1,1,5,6,8,10,22,5,6,4,11,9,5]\n",
    "        tpP = utl.Herramientas(value)\n",
    "        self.assertEqual(tpP.myList, value) #myList es un atributo de Utilidades.\n",
    "\n",
    "    def test_Prueba3(self): #Test que verifica si funciona la función Repetidos de la clase Utilidades.\n",
    "        thisList = [1,1,2,5,5,5,4,1,5]\n",
    "        thisUTL = utl.Herramientas(thisList)\n",
    "        thisModa, thisVeces = thisUTL.listRepetidos()\n",
    "        thisModa = [thisModa]        \n",
    "        thisModa.append(thisVeces)\n",
    "        resultado = [5, 4]\n",
    "        self.assertEqual(thisModa, resultado)"
   ]
  },
  {
   "cell_type": "code",
   "execution_count": 24,
   "metadata": {},
   "outputs": [
    {
     "name": "stderr",
     "output_type": "stream",
     "text": [
      "test_Prueba1 (__main__.PruebaUtilidades.test_Prueba1) ... ok\n",
      "test_Prueba2 (__main__.PruebaUtilidades.test_Prueba2) ... ok\n",
      "test_Prueba3 (__main__.PruebaUtilidades.test_Prueba3) ... ok\n",
      "\n",
      "----------------------------------------------------------------------\n",
      "Ran 3 tests in 0.012s\n",
      "\n",
      "OK\n"
     ]
    },
    {
     "data": {
      "text/plain": [
       "<unittest.main.TestProgram at 0x198e6976660>"
      ]
     },
     "execution_count": 24,
     "metadata": {},
     "output_type": "execute_result"
    }
   ],
   "source": [
    "unittest.main(argv=[''], verbosity=2, exit=False)"
   ]
  },
  {
   "attachments": {},
   "cell_type": "markdown",
   "metadata": {},
   "source": [
    "4) Probar una creación incorrecta y visualizar la salida del \"raise\""
   ]
  },
  {
   "cell_type": "code",
   "execution_count": 25,
   "metadata": {},
   "outputs": [
    {
     "ename": "ValueError",
     "evalue": "Se ha creado una lista vacia, por favor ingresar un valor de tipo lista.",
     "output_type": "error",
     "traceback": [
      "\u001b[1;31m---------------------------------------------------------------------------\u001b[0m",
      "\u001b[1;31mValueError\u001b[0m                                Traceback (most recent call last)",
      "\u001b[1;32mc:\\Users\\fesco\\OneDrive\\Documentos\\SoyHenry\\PrepCourse\\Python-Prep\\M09_errorhandling\\Prep_Course_Homework_09.ipynb Cell 17\u001b[0m line \u001b[0;36m1\n\u001b[1;32m----> <a href='vscode-notebook-cell:/c%3A/Users/fesco/OneDrive/Documentos/SoyHenry/PrepCourse/Python-Prep/M09_errorhandling/Prep_Course_Homework_09.ipynb#X22sZmlsZQ%3D%3D?line=0'>1</a>\u001b[0m tp1 \u001b[39m=\u001b[39m utl\u001b[39m.\u001b[39;49mHerramientas(\u001b[39m'\u001b[39;49m\u001b[39mPython\u001b[39;49m\u001b[39m'\u001b[39;49m)\n",
      "File \u001b[1;32mc:\\Users\\fesco\\OneDrive\\Documentos\\SoyHenry\\PrepCourse\\Python-Prep\\M09_errorhandling\\../M08_clasesyOOP\\utilidades.py:5\u001b[0m, in \u001b[0;36mHerramientas.__init__\u001b[1;34m(self, awayList)\u001b[0m\n\u001b[0;32m      3\u001b[0m \u001b[39mif\u001b[39;00m (\u001b[39mtype\u001b[39m(awayList) \u001b[39m!=\u001b[39m \u001b[39mlist\u001b[39m):\n\u001b[0;32m      4\u001b[0m     \u001b[39mself\u001b[39m\u001b[39m.\u001b[39mmyList \u001b[39m=\u001b[39m []\n\u001b[1;32m----> 5\u001b[0m     \u001b[39mraise\u001b[39;00m \u001b[39mValueError\u001b[39;00m(\u001b[39m'\u001b[39m\u001b[39mSe ha creado una lista vacia, por favor ingresar un valor de tipo lista.\u001b[39m\u001b[39m'\u001b[39m)\n\u001b[0;32m      6\u001b[0m \u001b[39melse\u001b[39;00m:\n\u001b[0;32m      7\u001b[0m     \u001b[39mself\u001b[39m\u001b[39m.\u001b[39mmyList \u001b[39m=\u001b[39m awayList\n",
      "\u001b[1;31mValueError\u001b[0m: Se ha creado una lista vacia, por favor ingresar un valor de tipo lista."
     ]
    }
   ],
   "source": [
    "tp1 = utl.Herramientas('Python')"
   ]
  },
  {
   "attachments": {},
   "cell_type": "markdown",
   "metadata": {},
   "source": [
    "5) Agregar casos de pruebas para el método verifica_primos() realizando el cambio en la clase, para que devuelva una lista de True o False en función de que el elemento en la posisicón sea o no primo"
   ]
  },
  {
   "cell_type": "code",
   "execution_count": 26,
   "metadata": {},
   "outputs": [],
   "source": [
    "class PruebaPrimos(unittest.TestCase):  #Test que prueba si un número es primo\n",
    "    def test_Prueba1(self):\n",
    "        thisList = [1,3,4,5,7,8]\n",
    "        thisUTL = utl.Herramientas(thisList)  #Se crea el objeto de utilidades\n",
    "        primos = thisUTL.listPrimo()    #Se llama al metodo listPrimo()\n",
    "        primosEsperados = [False, True, False, True, True, False]\n",
    "        self.assertEqual(primos, primosEsperados)   #Se comprueba si esta correcta la funcion"
   ]
  },
  {
   "cell_type": "code",
   "execution_count": 27,
   "metadata": {},
   "outputs": [
    {
     "data": {
      "text/plain": [
       "<module 'utilidades' from 'c:\\\\Users\\\\fesco\\\\OneDrive\\\\Documentos\\\\SoyHenry\\\\PrepCourse\\\\Python-Prep\\\\M09_errorhandling\\\\../M08_clasesyOOP\\\\utilidades.py'>"
      ]
     },
     "execution_count": 27,
     "metadata": {},
     "output_type": "execute_result"
    }
   ],
   "source": [
    "import importlib\n",
    "importlib.reload(utl)"
   ]
  },
  {
   "cell_type": "code",
   "execution_count": 28,
   "metadata": {},
   "outputs": [
    {
     "name": "stderr",
     "output_type": "stream",
     "text": [
      "test_Prueba1 (__main__.PruebaPrimos.test_Prueba1) ... ok\n",
      "test_Prueba1 (__main__.PruebaUtilidades.test_Prueba1) ... ok\n",
      "test_Prueba2 (__main__.PruebaUtilidades.test_Prueba2) ... ok\n",
      "test_Prueba3 (__main__.PruebaUtilidades.test_Prueba3) ... ok\n",
      "\n",
      "----------------------------------------------------------------------\n",
      "Ran 4 tests in 0.017s\n",
      "\n",
      "OK\n"
     ]
    },
    {
     "data": {
      "text/plain": [
       "<unittest.main.TestProgram at 0x198e69ce1b0>"
      ]
     },
     "execution_count": 28,
     "metadata": {},
     "output_type": "execute_result"
    }
   ],
   "source": [
    "unittest.main(argv=[''], verbosity=2, exit=False)"
   ]
  },
  {
   "attachments": {},
   "cell_type": "markdown",
   "metadata": {},
   "source": [
    "6) Agregar casos de pruebas para el método conversion_grados()"
   ]
  },
  {
   "cell_type": "code",
   "execution_count": 29,
   "metadata": {},
   "outputs": [],
   "source": [
    "class PruebaConversionGrados(unittest.TestCase):\n",
    "    def test_Prueba1(self):\n",
    "        thisList = [10,22,5]\n",
    "        thisUTL = utl.Herramientas(thisList)\n",
    "        temperatura = thisUTL.listConversorTemperatura('Kelvin', 'Celsius')\n",
    "        temperaturaEsperada = [[10, -263.15],[22, -251.15],[5, -268.15]]\n",
    "        self.assertEqual(temperatura, temperaturaEsperada)"
   ]
  },
  {
   "cell_type": "code",
   "execution_count": 30,
   "metadata": {},
   "outputs": [
    {
     "name": "stderr",
     "output_type": "stream",
     "text": [
      "test_Prueba1 (__main__.PruebaConversionGrados.test_Prueba1) ... ok\n",
      "test_Prueba1 (__main__.PruebaPrimos.test_Prueba1) ... ok\n",
      "test_Prueba1 (__main__.PruebaUtilidades.test_Prueba1) ... ok\n",
      "test_Prueba2 (__main__.PruebaUtilidades.test_Prueba2) ... ok\n",
      "test_Prueba3 (__main__.PruebaUtilidades.test_Prueba3) ... ok\n",
      "\n",
      "----------------------------------------------------------------------\n",
      "Ran 5 tests in 0.016s\n",
      "\n",
      "OK\n"
     ]
    },
    {
     "data": {
      "text/plain": [
       "<unittest.main.TestProgram at 0x198e681b2c0>"
      ]
     },
     "execution_count": 30,
     "metadata": {},
     "output_type": "execute_result"
    }
   ],
   "source": [
    "unittest.main(argv=[''], verbosity=2, exit=False)"
   ]
  },
  {
   "attachments": {},
   "cell_type": "markdown",
   "metadata": {},
   "source": [
    "7) Agregar casos de pruebas para el método factorial()"
   ]
  },
  {
   "cell_type": "code",
   "execution_count": 31,
   "metadata": {},
   "outputs": [],
   "source": [
    "class PruebaFactorial(unittest.TestCase):\n",
    "    def test_Prueba1(self):\n",
    "        thislist = [3,5,6]\n",
    "        thisUTL = utl.Herramientas(thislist)\n",
    "        factorial = thisUTL.listFactorial()\n",
    "        factorialEsperado = [6,120,720]\n",
    "        self.assertEqual(factorial, factorialEsperado)"
   ]
  },
  {
   "cell_type": "code",
   "execution_count": 32,
   "metadata": {},
   "outputs": [
    {
     "name": "stderr",
     "output_type": "stream",
     "text": [
      "test_Prueba1 (__main__.PruebaConversionGrados.test_Prueba1) ... ok\n",
      "test_Prueba1 (__main__.PruebaFactorial.test_Prueba1) ... ok\n",
      "test_Prueba1 (__main__.PruebaPrimos.test_Prueba1) ... ok\n",
      "test_Prueba1 (__main__.PruebaUtilidades.test_Prueba1) ... ok\n",
      "test_Prueba2 (__main__.PruebaUtilidades.test_Prueba2) ... ok\n",
      "test_Prueba3 (__main__.PruebaUtilidades.test_Prueba3) ... ok\n",
      "\n",
      "----------------------------------------------------------------------\n",
      "Ran 6 tests in 0.022s\n",
      "\n",
      "OK\n"
     ]
    },
    {
     "data": {
      "text/plain": [
       "<unittest.main.TestProgram at 0x198e6818a40>"
      ]
     },
     "execution_count": 32,
     "metadata": {},
     "output_type": "execute_result"
    }
   ],
   "source": [
    "unittest.main(argv=[''], verbosity=2, exit=False)"
   ]
  }
 ],
 "metadata": {
  "interpreter": {
   "hash": "c85384e4cb51c8b72350f3a8712cc8351fdc3955e32a27f9b60c6242ab125f01"
  },
  "kernelspec": {
   "display_name": "Python 3 (ipykernel)",
   "language": "python",
   "name": "python3"
  },
  "language_info": {
   "codemirror_mode": {
    "name": "ipython",
    "version": 3
   },
   "file_extension": ".py",
   "mimetype": "text/x-python",
   "name": "python",
   "nbconvert_exporter": "python",
   "pygments_lexer": "ipython3",
   "version": "3.12.0"
  }
 },
 "nbformat": 4,
 "nbformat_minor": 4
}
