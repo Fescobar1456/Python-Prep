{
 "cells": [
  {
   "cell_type": "code",
   "execution_count": 2,
   "metadata": {},
   "outputs": [],
   "source": [
    "import unittest"
   ]
  },
  {
   "cell_type": "code",
   "execution_count": 3,
   "metadata": {},
   "outputs": [],
   "source": [
    "def Suma(num1, num2):\n",
    "    return num1 + num2"
   ]
  },
  {
   "cell_type": "code",
   "execution_count": 6,
   "metadata": {},
   "outputs": [],
   "source": [
    "class CajaNegraTest(unittest.TestCase):\n",
    "    def testSumaPositivos(self):\n",
    "        num1 = 10\n",
    "        num2= 5\n",
    "        resultado = Suma(num1, num2)\n",
    "        self.assertEqual(resultado, 15)\n",
    "\n",
    "    def testSumaNegativos(self):\n",
    "        num1 = -10\n",
    "        num2 = -7\n",
    "        resultado = Suma(num1, num2)\n",
    "        self.assertEqual(resultado, -17)"
   ]
  },
  {
   "cell_type": "code",
   "execution_count": 7,
   "metadata": {},
   "outputs": [
    {
     "name": "stderr",
     "output_type": "stream",
     "text": [
      "testSumaNegativos (__main__.CajaNegraTest.testSumaNegativos) ... ok\n",
      "testSumaPositivos (__main__.CajaNegraTest.testSumaPositivos) ... ok\n",
      "\n",
      "----------------------------------------------------------------------\n",
      "Ran 2 tests in 0.006s\n",
      "\n",
      "OK\n"
     ]
    },
    {
     "ename": "NameError",
     "evalue": "name 'testSumaPositivos' is not defined",
     "output_type": "error",
     "traceback": [
      "\u001b[1;31m---------------------------------------------------------------------------\u001b[0m",
      "\u001b[1;31mNameError\u001b[0m                                 Traceback (most recent call last)",
      "\u001b[1;32mc:\\Users\\fesco\\Videos\\SoyHenry\\PrepCourse\\Python-Prep\\M09_errorhandling\\Clase\\1.Manejo_Errores.ipynb Cell 4\u001b[0m line \u001b[0;36m2\n\u001b[0;32m      <a href='vscode-notebook-cell:/c%3A/Users/fesco/Videos/SoyHenry/PrepCourse/Python-Prep/M09_errorhandling/Clase/1.Manejo_Errores.ipynb#W3sZmlsZQ%3D%3D?line=0'>1</a>\u001b[0m unittest\u001b[39m.\u001b[39mmain(argv\u001b[39m=\u001b[39m[\u001b[39m'\u001b[39m\u001b[39m'\u001b[39m], verbosity\u001b[39m=\u001b[39m\u001b[39m2\u001b[39m, exit\u001b[39m=\u001b[39m\u001b[39mFalse\u001b[39;00m)\n\u001b[1;32m----> <a href='vscode-notebook-cell:/c%3A/Users/fesco/Videos/SoyHenry/PrepCourse/Python-Prep/M09_errorhandling/Clase/1.Manejo_Errores.ipynb#W3sZmlsZQ%3D%3D?line=1'>2</a>\u001b[0m testSumaPositivos(__main__\u001b[39m.\u001b[39mCajaNegraTest)\n\u001b[0;32m      <a href='vscode-notebook-cell:/c%3A/Users/fesco/Videos/SoyHenry/PrepCourse/Python-Prep/M09_errorhandling/Clase/1.Manejo_Errores.ipynb#W3sZmlsZQ%3D%3D?line=2'>3</a>\u001b[0m testSumaNegativos(__main__\u001b[39m.\u001b[39mCajaNegraTest)\n",
      "\u001b[1;31mNameError\u001b[0m: name 'testSumaPositivos' is not defined"
     ]
    }
   ],
   "source": [
    "unittest.main(argv=[''], verbosity=2, exit=False)\n",
    "testSumaPositivos(__main__.CajaNegraTest)\n",
    "testSumaNegativos(__main__.CajaNegraTest)"
   ]
  }
 ],
 "metadata": {
  "kernelspec": {
   "display_name": "Python 3",
   "language": "python",
   "name": "python3"
  },
  "language_info": {
   "codemirror_mode": {
    "name": "ipython",
    "version": 3
   },
   "file_extension": ".py",
   "mimetype": "text/x-python",
   "name": "python",
   "nbconvert_exporter": "python",
   "pygments_lexer": "ipython3",
   "version": "3.12.0"
  }
 },
 "nbformat": 4,
 "nbformat_minor": 2
}
