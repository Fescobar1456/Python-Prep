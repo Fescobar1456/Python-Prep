{
 "cells": [
  {
   "cell_type": "code",
   "execution_count": 1,
   "metadata": {},
   "outputs": [],
   "source": [
    "def Dividir(num1, num2):\n",
    "    try:\n",
    "        resultado = num1 / num2\n",
    "        return resultado\n",
    "    except ZeroDivisionError:\n",
    "        print('No se puede dividir por cero.')\n",
    "        return None"
   ]
  },
  {
   "cell_type": "code",
   "execution_count": 2,
   "metadata": {},
   "outputs": [
    {
     "name": "stdout",
     "output_type": "stream",
     "text": [
      "No se puede dividir por cero.\n"
     ]
    }
   ],
   "source": [
    "Dividir(5, 0)"
   ]
  },
  {
   "cell_type": "code",
   "execution_count": 3,
   "metadata": {},
   "outputs": [
    {
     "name": "stdout",
     "output_type": "stream",
     "text": [
      "El archivo no existe.\n"
     ]
    }
   ],
   "source": [
    "try:\n",
    "    with open('file.txt', 'r') as f:\n",
    "        contenido = f.read()\n",
    "except FileNotFoundError:\n",
    "    print('El archivo no existe.')"
   ]
  },
  {
   "cell_type": "code",
   "execution_count": 5,
   "metadata": {},
   "outputs": [
    {
     "name": "stdout",
     "output_type": "stream",
     "text": [
      "La clave no existe en el diccionario.\n"
     ]
    }
   ],
   "source": [
    "diccionario = {'Colombia': 'Co', 'Estados Unidos': 'USA', 'Canada': 'Ca'}\n",
    "\n",
    "try:\n",
    "    codigo = diccionario['Argentina']\n",
    "except KeyError:\n",
    "    print('La clave no existe en el diccionario.')"
   ]
  },
  {
   "cell_type": "code",
   "execution_count": 6,
   "metadata": {},
   "outputs": [
    {
     "ename": "NameError",
     "evalue": "name 'condicion' is not defined",
     "output_type": "error",
     "traceback": [
      "\u001b[1;31m---------------------------------------------------------------------------\u001b[0m",
      "\u001b[1;31mNameError\u001b[0m                                 Traceback (most recent call last)",
      "\u001b[1;32mc:\\Users\\fesco\\Videos\\SoyHenry\\PrepCourse\\Python-Prep\\M09_errorhandling\\Clase\\4.ExcepcionesControldeFlujoAfirmaciones.ipynb Cell 5\u001b[0m line \u001b[0;36m3\n\u001b[0;32m      <a href='vscode-notebook-cell:/c%3A/Users/fesco/Videos/SoyHenry/PrepCourse/Python-Prep/M09_errorhandling/Clase/4.ExcepcionesControldeFlujoAfirmaciones.ipynb#W4sZmlsZQ%3D%3D?line=0'>1</a>\u001b[0m \u001b[39m#* Afirmación en Python\u001b[39;00m\n\u001b[1;32m----> <a href='vscode-notebook-cell:/c%3A/Users/fesco/Videos/SoyHenry/PrepCourse/Python-Prep/M09_errorhandling/Clase/4.ExcepcionesControldeFlujoAfirmaciones.ipynb#W4sZmlsZQ%3D%3D?line=2'>3</a>\u001b[0m \u001b[39massert\u001b[39;00m condicion, menzajeError\n",
      "\u001b[1;31mNameError\u001b[0m: name 'condicion' is not defined"
     ]
    }
   ],
   "source": [
    "#* Afirmación en Python\n",
    "\n",
    "assert condicion, menzajeError"
   ]
  },
  {
   "cell_type": "code",
   "execution_count": 7,
   "metadata": {},
   "outputs": [],
   "source": [
    "def PrimeraLetra(listaPalabra):\n",
    "    primeraLetra = []\n",
    "    for palabra in listaPalabra:\n",
    "        assert type(palabra) == str, f'{palabra} no es str.'\n",
    "        assert len(palabra) > 0, 'No se permiten str vacios.'\n",
    "        primeraLetra.append(palabra[0])\n",
    "    return primeraLetra        "
   ]
  },
  {
   "cell_type": "code",
   "execution_count": 8,
   "metadata": {},
   "outputs": [
    {
     "ename": "AssertionError",
     "evalue": "1 no es str.",
     "output_type": "error",
     "traceback": [
      "\u001b[1;31m---------------------------------------------------------------------------\u001b[0m",
      "\u001b[1;31mAssertionError\u001b[0m                            Traceback (most recent call last)",
      "\u001b[1;32mc:\\Users\\fesco\\Videos\\SoyHenry\\PrepCourse\\Python-Prep\\M09_errorhandling\\Clase\\4.ExcepcionesControldeFlujoAfirmaciones.ipynb Cell 7\u001b[0m line \u001b[0;36m1\n\u001b[1;32m----> <a href='vscode-notebook-cell:/c%3A/Users/fesco/Videos/SoyHenry/PrepCourse/Python-Prep/M09_errorhandling/Clase/4.ExcepcionesControldeFlujoAfirmaciones.ipynb#W6sZmlsZQ%3D%3D?line=0'>1</a>\u001b[0m PrimeraLetra([\u001b[39m'\u001b[39;49m\u001b[39mBanco\u001b[39;49m\u001b[39m'\u001b[39;49m, \u001b[39m'\u001b[39;49m\u001b[39mMundo\u001b[39;49m\u001b[39m'\u001b[39;49m, \u001b[39m1\u001b[39;49m])\n",
      "\u001b[1;32mc:\\Users\\fesco\\Videos\\SoyHenry\\PrepCourse\\Python-Prep\\M09_errorhandling\\Clase\\4.ExcepcionesControldeFlujoAfirmaciones.ipynb Cell 7\u001b[0m line \u001b[0;36m4\n\u001b[0;32m      <a href='vscode-notebook-cell:/c%3A/Users/fesco/Videos/SoyHenry/PrepCourse/Python-Prep/M09_errorhandling/Clase/4.ExcepcionesControldeFlujoAfirmaciones.ipynb#W6sZmlsZQ%3D%3D?line=1'>2</a>\u001b[0m primeraLetra \u001b[39m=\u001b[39m []\n\u001b[0;32m      <a href='vscode-notebook-cell:/c%3A/Users/fesco/Videos/SoyHenry/PrepCourse/Python-Prep/M09_errorhandling/Clase/4.ExcepcionesControldeFlujoAfirmaciones.ipynb#W6sZmlsZQ%3D%3D?line=2'>3</a>\u001b[0m \u001b[39mfor\u001b[39;00m palabra \u001b[39min\u001b[39;00m listaPalabra:\n\u001b[1;32m----> <a href='vscode-notebook-cell:/c%3A/Users/fesco/Videos/SoyHenry/PrepCourse/Python-Prep/M09_errorhandling/Clase/4.ExcepcionesControldeFlujoAfirmaciones.ipynb#W6sZmlsZQ%3D%3D?line=3'>4</a>\u001b[0m     \u001b[39massert\u001b[39;00m \u001b[39mtype\u001b[39m(palabra) \u001b[39m==\u001b[39m \u001b[39mstr\u001b[39m, \u001b[39mf\u001b[39m\u001b[39m'\u001b[39m\u001b[39m{\u001b[39;00mpalabra\u001b[39m}\u001b[39;00m\u001b[39m no es str.\u001b[39m\u001b[39m'\u001b[39m\n\u001b[0;32m      <a href='vscode-notebook-cell:/c%3A/Users/fesco/Videos/SoyHenry/PrepCourse/Python-Prep/M09_errorhandling/Clase/4.ExcepcionesControldeFlujoAfirmaciones.ipynb#W6sZmlsZQ%3D%3D?line=4'>5</a>\u001b[0m     \u001b[39massert\u001b[39;00m \u001b[39mlen\u001b[39m(palabra) \u001b[39m>\u001b[39m \u001b[39m0\u001b[39m, \u001b[39m'\u001b[39m\u001b[39mNo se permiten str vacios.\u001b[39m\u001b[39m'\u001b[39m\n\u001b[0;32m      <a href='vscode-notebook-cell:/c%3A/Users/fesco/Videos/SoyHenry/PrepCourse/Python-Prep/M09_errorhandling/Clase/4.ExcepcionesControldeFlujoAfirmaciones.ipynb#W6sZmlsZQ%3D%3D?line=5'>6</a>\u001b[0m     primeraLetra\u001b[39m.\u001b[39mappend(palabra[\u001b[39m0\u001b[39m])\n",
      "\u001b[1;31mAssertionError\u001b[0m: 1 no es str."
     ]
    }
   ],
   "source": [
    "PrimeraLetra(['Banco', 'Mundo', 1])"
   ]
  }
 ],
 "metadata": {
  "kernelspec": {
   "display_name": "Python 3",
   "language": "python",
   "name": "python3"
  },
  "language_info": {
   "codemirror_mode": {
    "name": "ipython",
    "version": 3
   },
   "file_extension": ".py",
   "mimetype": "text/x-python",
   "name": "python",
   "nbconvert_exporter": "python",
   "pygments_lexer": "ipython3",
   "version": "3.12.0"
  }
 },
 "nbformat": 4,
 "nbformat_minor": 2
}
