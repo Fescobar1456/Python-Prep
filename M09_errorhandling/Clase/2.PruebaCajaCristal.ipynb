{
 "cells": [
  {
   "cell_type": "code",
   "execution_count": 1,
   "metadata": {},
   "outputs": [],
   "source": [
    "import unittest"
   ]
  },
  {
   "cell_type": "code",
   "execution_count": 2,
   "metadata": {},
   "outputs": [],
   "source": [
    "def MayorEdad(edad):\n",
    "    if edad >= 18:\n",
    "        return True\n",
    "    else:\n",
    "        return False"
   ]
  },
  {
   "cell_type": "code",
   "execution_count": 3,
   "metadata": {},
   "outputs": [],
   "source": [
    "class PruebaCristalTest(unittest.TestCase):\n",
    "\n",
    "    #* Los test deben empezar con test_Nombre_del_test\n",
    "    \n",
    "    def test_PruebaMayorEdad(self):\n",
    "        edad = 20\n",
    "        resultado = MayorEdad(edad)\n",
    "        self.assertEqual(resultado, True)\n",
    "\n",
    "    def test_PruebaMenorEdad(self):\n",
    "        edad = 15\n",
    "        resultado = MayorEdad(edad)\n",
    "        self.assertEqual(resultado, False)"
   ]
  },
  {
   "cell_type": "code",
   "execution_count": 4,
   "metadata": {},
   "outputs": [
    {
     "name": "stderr",
     "output_type": "stream",
     "text": [
      "test_PruebaMayorEdad (__main__.PruebaCristalTest.test_PruebaMayorEdad) ... ok\n",
      "test_PruebaMenorEdad (__main__.PruebaCristalTest.test_PruebaMenorEdad) ... ok\n",
      "\n",
      "----------------------------------------------------------------------\n",
      "Ran 2 tests in 0.006s\n",
      "\n",
      "OK\n"
     ]
    },
    {
     "data": {
      "text/plain": [
       "<unittest.main.TestProgram at 0x1cf49878590>"
      ]
     },
     "execution_count": 4,
     "metadata": {},
     "output_type": "execute_result"
    }
   ],
   "source": [
    "unittest.main(argv=[''], verbosity=2, exit=False)"
   ]
  }
 ],
 "metadata": {
  "kernelspec": {
   "display_name": "Python 3",
   "language": "python",
   "name": "python3"
  },
  "language_info": {
   "codemirror_mode": {
    "name": "ipython",
    "version": 3
   },
   "file_extension": ".py",
   "mimetype": "text/x-python",
   "name": "python",
   "nbconvert_exporter": "python",
   "pygments_lexer": "ipython3",
   "version": "3.12.0"
  }
 },
 "nbformat": 4,
 "nbformat_minor": 2
}
