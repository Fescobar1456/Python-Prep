{
 "cells": [
  {
   "attachments": {},
   "cell_type": "markdown",
   "metadata": {},
   "source": [
    "## Funciones"
   ]
  },
  {
   "attachments": {},
   "cell_type": "markdown",
   "metadata": {},
   "source": [
    "1) Crear una función que reciba un número como parámetro y devuelva True si es primo y False si no lo es"
   ]
  },
  {
   "cell_type": "code",
   "execution_count": 5,
   "metadata": {},
   "outputs": [],
   "source": [
    "def Primo(num):\n",
    "    if num < 2:\n",
    "        return False\n",
    "    else:\n",
    "        for i in range(2, num):\n",
    "            if num % i == 0:\n",
    "                return False\n",
    "        return True"
   ]
  },
  {
   "cell_type": "code",
   "execution_count": 6,
   "metadata": {},
   "outputs": [
    {
     "data": {
      "text/plain": [
       "True"
      ]
     },
     "execution_count": 6,
     "metadata": {},
     "output_type": "execute_result"
    }
   ],
   "source": [
    "Primo(29)"
   ]
  },
  {
   "attachments": {},
   "cell_type": "markdown",
   "metadata": {},
   "source": [
    "2) Utilizando la función del punto 1, realizar otra función que reciba de parámetro una lista de números y devuelva sólo aquellos que son primos en otra lista"
   ]
  },
  {
   "cell_type": "code",
   "execution_count": 7,
   "metadata": {},
   "outputs": [],
   "source": [
    "numList = []\n",
    "\n",
    "for i in range(1, 31):\n",
    "    numList.append(i)"
   ]
  },
  {
   "cell_type": "code",
   "execution_count": 8,
   "metadata": {},
   "outputs": [
    {
     "data": {
      "text/plain": [
       "[2, 3, 5, 7, 11, 13, 17, 19, 23, 29]"
      ]
     },
     "execution_count": 8,
     "metadata": {},
     "output_type": "execute_result"
    }
   ],
   "source": [
    "primoList = []\n",
    "\n",
    "for i in numList:\n",
    "    if Primo(i):\n",
    "        primoList.append(i)\n",
    "\n",
    "primoList"
   ]
  },
  {
   "attachments": {},
   "cell_type": "markdown",
   "metadata": {},
   "source": [
    "3) Crear una función que al recibir una lista de números, devuelva el que más se repite y cuántas veces lo hace. Si hay más de un \"más repetido\", que devuelva cualquiera"
   ]
  },
  {
   "cell_type": "code",
   "execution_count": 26,
   "metadata": {},
   "outputs": [],
   "source": [
    "def Repetidos(lista):\n",
    "    dictNum = {}\n",
    "\n",
    "    #Aqui se almacenan cuantas veces se repiten los valores.\n",
    "    for key in lista:\n",
    "        if key in dictNum:\n",
    "            dictNum[key] += 1\n",
    "        else:\n",
    "            dictNum[key] = 1\n",
    "\n",
    "    #Convertimos las claves a valores a las listas\n",
    "    keysLista = list(dictNum.keys())\n",
    "    valuesLista = list(dictNum.values())\n",
    "\n",
    "    #Establecemos como maximo el primer valor\n",
    "    moda = keysLista[0]\n",
    "    maximo = valuesLista[0]\n",
    "\n",
    "    #Aqui buscamos cual es el que más se repite\n",
    "    for i, element in enumerate(valuesLista):\n",
    "        if element > maximo:\n",
    "            moda = keysLista[i]\n",
    "            maximo = element\n",
    "    \n",
    "    return moda, maximo"
   ]
  },
  {
   "cell_type": "code",
   "execution_count": 27,
   "metadata": {},
   "outputs": [
    {
     "data": {
      "text/plain": [
       "(5, 3)"
      ]
     },
     "execution_count": 27,
     "metadata": {},
     "output_type": "execute_result"
    }
   ],
   "source": [
    "lis = [1,1,5,6,8,10,22,5,6,4,11,9,5]\n",
    "\n",
    "Repetidos(lis)"
   ]
  },
  {
   "attachments": {},
   "cell_type": "markdown",
   "metadata": {},
   "source": [
    "4) Crear una función que convierta entre grados Celsius, Fahrenheit y Kelvin<br>\n",
    "Fórmula 1\t: (°C × 9/5) + 32 = °F<br>\n",
    "Fórmula 2\t: °C + 273.15 = °K<br>\n",
    "Debe recibir 3 parámetros: el valor, la medida de orígen y la medida de destino\n"
   ]
  },
  {
   "cell_type": "code",
   "execution_count": 46,
   "metadata": {},
   "outputs": [],
   "source": [
    "def ConversorTemperatura(valor, origen, destino):\n",
    "\n",
    "    temp = 0\n",
    "    \n",
    "    if origen == 'Celsius':\n",
    "        if destino == 'Fahrenheit':\n",
    "            temp = 32 + (valor * 9/5)\n",
    "        elif destino == 'Kelvin':\n",
    "            temp = 273.15 + valor\n",
    "        else:\n",
    "            return 'Destino ingresado incorrecto -> ' + destino\n",
    "    elif origen == 'Fahrenheit':\n",
    "        if destino == 'Celsius':\n",
    "            temp = 5/9 * (valor - 32)\n",
    "        elif destino == 'Kelvin':\n",
    "            temp = 273.15 + 5/9 * (valor - 32)\n",
    "        else:\n",
    "            return 'Destino ingresado incorrecto - > ' + destino\n",
    "    elif origen == 'Kelvin':\n",
    "        if destino == 'Celsius':\n",
    "            temp = valor - 273.15\n",
    "        elif destino == 'Fahrenheit':\n",
    "            temp = 32 + 9/5 * (valor - 273.15)\n",
    "        else:\n",
    "            return 'Destino ingresado incorrecto -> ' + destino\n",
    "    else:\n",
    "        return 'Origen ingresado incorrecto -> ' + origen\n",
    "\n",
    "    return round(temp, 3)"
   ]
  },
  {
   "cell_type": "code",
   "execution_count": 47,
   "metadata": {},
   "outputs": [
    {
     "name": "stdout",
     "output_type": "stream",
     "text": [
      "-432.67\n"
     ]
    }
   ],
   "source": [
    "print(ConversorTemperatura(15, 'Kelvin', 'Fahrenheit'))"
   ]
  },
  {
   "attachments": {},
   "cell_type": "markdown",
   "metadata": {},
   "source": [
    "5) Iterando una lista con los tres valores posibles de temperatura que recibe la función del punto 5, hacer un print para cada combinación de los mismos:"
   ]
  },
  {
   "cell_type": "code",
   "execution_count": 48,
   "metadata": {},
   "outputs": [
    {
     "name": "stdout",
     "output_type": "stream",
     "text": [
      "De Celsius a Fahrenheit -> 59.0\n",
      "De Celsius a Kelvin -> 288.15\n",
      "De Fahrenheit a Celsius -> -9.444\n",
      "De Fahrenheit a Kelvin -> 263.706\n",
      "De Kelvin a Celsius -> -258.15\n",
      "De Kelvin a Fahrenheit -> -432.67\n"
     ]
    }
   ],
   "source": [
    "temperaturas = ['Celsius', 'Fahrenheit', 'Kelvin']\n",
    "\n",
    "for origen in temperaturas:\n",
    "    for destino in temperaturas:\n",
    "        if origen == destino:\n",
    "            continue\n",
    "        else:\n",
    "            print(f'De {origen} a {destino} -> {ConversorTemperatura(15, origen, destino)}')"
   ]
  },
  {
   "attachments": {},
   "cell_type": "markdown",
   "metadata": {},
   "source": [
    "6) Armar una función que devuelva el factorial de un número. Tener en cuenta que el usuario puede equivocarse y enviar de parámetro un número no entero o negativo"
   ]
  },
  {
   "cell_type": "code",
   "execution_count": 17,
   "metadata": {},
   "outputs": [],
   "source": [
    "def Factorial(num):\n",
    "    if type(num) == int:\n",
    "        if num < 0:\n",
    "            return 'El número debe ser positivo.'\n",
    "        else:\n",
    "            if num == 0:\n",
    "                return 1\n",
    "            else:\n",
    "                return num * Factorial(num - 1)\n",
    "    else:\n",
    "        return 'El valor ingresado debe ser de tipo entero.'"
   ]
  },
  {
   "cell_type": "code",
   "execution_count": 20,
   "metadata": {},
   "outputs": [
    {
     "name": "stdout",
     "output_type": "stream",
     "text": [
      "720\n"
     ]
    }
   ],
   "source": [
    "print(Factorial(6))"
   ]
  }
 ],
 "metadata": {
  "interpreter": {
   "hash": "c85384e4cb51c8b72350f3a8712cc8351fdc3955e32a27f9b60c6242ab125f01"
  },
  "kernelspec": {
   "display_name": "Python 3 (ipykernel)",
   "language": "python",
   "name": "python3"
  },
  "language_info": {
   "codemirror_mode": {
    "name": "ipython",
    "version": 3
   },
   "file_extension": ".py",
   "mimetype": "text/x-python",
   "name": "python",
   "nbconvert_exporter": "python",
   "pygments_lexer": "ipython3",
   "version": "3.12.0"
  }
 },
 "nbformat": 4,
 "nbformat_minor": 4
}
