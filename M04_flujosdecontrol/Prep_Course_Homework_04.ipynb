{
 "cells": [
  {
   "attachments": {},
   "cell_type": "markdown",
   "metadata": {},
   "source": [
    "## Flujos de Control"
   ]
  },
  {
   "attachments": {},
   "cell_type": "markdown",
   "metadata": {},
   "source": [
    "1) Crear una variable que contenga un elemento del conjunto de números enteros y luego imprimir por pantalla si es mayor o menor a cero"
   ]
  },
  {
   "cell_type": "code",
   "execution_count": 4,
   "metadata": {},
   "outputs": [
    {
     "name": "stdout",
     "output_type": "stream",
     "text": [
      "Es mayor a cero.\n"
     ]
    }
   ],
   "source": [
    "num = 8\n",
    "\n",
    "if num > 0:\n",
    "    print('Es mayor a cero.')\n",
    "elif num < 0:\n",
    "    print('Es menor a cero.')\n",
    "else:\n",
    "    print('Es igual a cero.')"
   ]
  },
  {
   "attachments": {},
   "cell_type": "markdown",
   "metadata": {},
   "source": [
    "2) Crear dos variables y un condicional que informe si son del mismo tipo de dato"
   ]
  },
  {
   "cell_type": "code",
   "execution_count": 7,
   "metadata": {},
   "outputs": [
    {
     "name": "stdout",
     "output_type": "stream",
     "text": [
      "No son del mismo tipo de dato.\n"
     ]
    }
   ],
   "source": [
    "var1 = 'Python.'\n",
    "var2 = 150\n",
    "\n",
    "if type(var1) == type(var2):\n",
    "    print('Son del mismo tipo de dato.')\n",
    "else:\n",
    "    print('No son del mismo tipo de dato.')"
   ]
  },
  {
   "attachments": {},
   "cell_type": "markdown",
   "metadata": {},
   "source": [
    "3) Para los valores enteros del 1 al 20, imprimir por pantalla si es par o impar"
   ]
  },
  {
   "cell_type": "code",
   "execution_count": 8,
   "metadata": {},
   "outputs": [
    {
     "name": "stdout",
     "output_type": "stream",
     "text": [
      "1 es impar.\n",
      "2 es par.\n",
      "3 es impar.\n",
      "4 es par.\n",
      "5 es impar.\n",
      "6 es par.\n",
      "7 es impar.\n",
      "8 es par.\n",
      "9 es impar.\n",
      "10 es par.\n",
      "11 es impar.\n",
      "12 es par.\n",
      "13 es impar.\n",
      "14 es par.\n",
      "15 es impar.\n",
      "16 es par.\n",
      "17 es impar.\n",
      "18 es par.\n",
      "19 es impar.\n",
      "20 es par.\n"
     ]
    }
   ],
   "source": [
    "for i in range(1, 21):\n",
    "    if i % 2 == 0:\n",
    "        print(f'{i} es par.')\n",
    "    else:\n",
    "        print(f'{i} es impar.')"
   ]
  },
  {
   "attachments": {},
   "cell_type": "markdown",
   "metadata": {},
   "source": [
    "4) En un ciclo for mostrar para los valores entre 0 y 5 el resultado de elevarlo a la potencia igual a 3"
   ]
  },
  {
   "cell_type": "code",
   "execution_count": 9,
   "metadata": {},
   "outputs": [
    {
     "name": "stdout",
     "output_type": "stream",
     "text": [
      "0 ** 3 = 0\n",
      "1 ** 3 = 1\n",
      "2 ** 3 = 8\n",
      "3 ** 3 = 27\n",
      "4 ** 3 = 64\n"
     ]
    }
   ],
   "source": [
    "for i in range(5):\n",
    "    print(f'{i} ** 3 = {i ** 3}')"
   ]
  },
  {
   "attachments": {},
   "cell_type": "markdown",
   "metadata": {},
   "source": [
    "5) Crear una variable que contenga un número entero y realizar un ciclo for la misma cantidad de ciclos"
   ]
  },
  {
   "cell_type": "code",
   "execution_count": 2,
   "metadata": {},
   "outputs": [
    {
     "name": "stdout",
     "output_type": "stream",
     "text": [
      "Ejecución número 0\n",
      "Ejecución número 1\n",
      "Ejecución número 2\n",
      "Ejecución número 3\n",
      "Ejecución número 4\n"
     ]
    }
   ],
   "source": [
    "varNum = 5\n",
    "\n",
    "for i in range(varNum):\n",
    "    print(f'Ejecución número {i}')"
   ]
  },
  {
   "attachments": {},
   "cell_type": "markdown",
   "metadata": {},
   "source": [
    "6) Utilizar un ciclo while para realizar el factorial de un número guardado en una variable, sólo si la variable contiene un número entero mayor a 0"
   ]
  },
  {
   "cell_type": "code",
   "execution_count": 14,
   "metadata": {},
   "outputs": [
    {
     "name": "stdout",
     "output_type": "stream",
     "text": [
      "Factorial de 5! es 120.\n"
     ]
    }
   ],
   "source": [
    "numFactorial = 1\n",
    "letValue = 5\n",
    "\n",
    "if letValue == 0 or letValue == 1:\n",
    "    print(f'Factorial de {letValue}! es 1.')\n",
    "else:\n",
    "    backup = letValue\n",
    "\n",
    "    while letValue > 0:\n",
    "        numFactorial *= letValue\n",
    "        letValue -= 1\n",
    "\n",
    "    print(f'Factorial de {backup}! es {numFactorial}.')"
   ]
  },
  {
   "attachments": {},
   "cell_type": "markdown",
   "metadata": {},
   "source": [
    "7) Crear un ciclo for dentro de un ciclo while"
   ]
  },
  {
   "cell_type": "code",
   "execution_count": null,
   "metadata": {},
   "outputs": [],
   "source": []
  },
  {
   "attachments": {},
   "cell_type": "markdown",
   "metadata": {},
   "source": [
    "8) Crear un ciclo while dentro de un ciclo for"
   ]
  },
  {
   "cell_type": "code",
   "execution_count": null,
   "metadata": {},
   "outputs": [],
   "source": []
  },
  {
   "attachments": {},
   "cell_type": "markdown",
   "metadata": {},
   "source": [
    "9) Imprimir los números primos existentes entre 0 y 30"
   ]
  },
  {
   "cell_type": "code",
   "execution_count": 19,
   "metadata": {},
   "outputs": [],
   "source": [
    "def Factorial(num):\n",
    "    if num < 2:\n",
    "        return False\n",
    "    else:\n",
    "        for i in range(2, num):\n",
    "            if num % i == 0:\n",
    "                return False\n",
    "        return True"
   ]
  },
  {
   "cell_type": "code",
   "execution_count": 24,
   "metadata": {},
   "outputs": [
    {
     "name": "stdout",
     "output_type": "stream",
     "text": [
      "2 es Primo.\n",
      "3 es Primo.\n",
      "5 es Primo.\n",
      "7 es Primo.\n",
      "11 es Primo.\n",
      "13 es Primo.\n",
      "17 es Primo.\n",
      "19 es Primo.\n",
      "23 es Primo.\n",
      "29 es Primo.\n"
     ]
    }
   ],
   "source": [
    "for i in range(31):\n",
    "    if Factorial(i):\n",
    "        print(f'{i} es Primo.')"
   ]
  },
  {
   "attachments": {},
   "cell_type": "markdown",
   "metadata": {},
   "source": [
    "10) ¿Se puede mejorar el proceso del punto 9? Utilizar las sentencias break y/ó continue para tal fin"
   ]
  },
  {
   "cell_type": "code",
   "execution_count": null,
   "metadata": {},
   "outputs": [],
   "source": []
  },
  {
   "attachments": {},
   "cell_type": "markdown",
   "metadata": {},
   "source": [
    "11) En los puntos 9 y 10, se diseño un código que encuentra números primos y además se lo optimizó. ¿Es posible saber en qué medida se optimizó?"
   ]
  },
  {
   "cell_type": "code",
   "execution_count": null,
   "metadata": {},
   "outputs": [],
   "source": []
  },
  {
   "attachments": {},
   "cell_type": "markdown",
   "metadata": {},
   "source": [
    "12) Aplicando continue, armar un ciclo while que solo imprima los valores divisibles por 12, dentro del rango de números de 100 a 300"
   ]
  },
  {
   "cell_type": "code",
   "execution_count": 25,
   "metadata": {},
   "outputs": [
    {
     "name": "stdout",
     "output_type": "stream",
     "text": [
      "108 es divisible con 12.\n",
      "120 es divisible con 12.\n",
      "132 es divisible con 12.\n",
      "144 es divisible con 12.\n",
      "156 es divisible con 12.\n",
      "168 es divisible con 12.\n",
      "180 es divisible con 12.\n",
      "192 es divisible con 12.\n",
      "204 es divisible con 12.\n",
      "216 es divisible con 12.\n",
      "228 es divisible con 12.\n",
      "240 es divisible con 12.\n",
      "252 es divisible con 12.\n",
      "264 es divisible con 12.\n",
      "276 es divisible con 12.\n",
      "288 es divisible con 12.\n",
      "300 es divisible con 12.\n"
     ]
    }
   ],
   "source": [
    "num = 99\n",
    "\n",
    "while num <= 300:\n",
    "    num += 1\n",
    "\n",
    "    if num % 12 != 0:\n",
    "        continue\n",
    "    else:\n",
    "        print(f'{num} es divisible con 12.')"
   ]
  },
  {
   "attachments": {},
   "cell_type": "markdown",
   "metadata": {},
   "source": [
    "13) Utilizar la función **input()** que permite hacer ingresos por teclado, para encontrar números primos y dar la opción al usario de buscar el siguiente"
   ]
  },
  {
   "cell_type": "code",
   "execution_count": null,
   "metadata": {},
   "outputs": [],
   "source": []
  },
  {
   "attachments": {},
   "cell_type": "markdown",
   "metadata": {},
   "source": [
    "14) Crear un ciclo while que encuentre dentro del rango de 100 a 300 el primer número divisible por 3 y además múltiplo de 6"
   ]
  },
  {
   "cell_type": "code",
   "execution_count": 27,
   "metadata": {},
   "outputs": [
    {
     "name": "stdout",
     "output_type": "stream",
     "text": [
      "102 es divisible por 3 y múltiplo de 6.\n"
     ]
    }
   ],
   "source": [
    "letNum = 100\n",
    "\n",
    "while letNum <= 300:\n",
    "\n",
    "    if letNum % 6 == 0:\n",
    "        print(f'{letNum} es divisible por 3 y múltiplo de 6.')\n",
    "        break\n",
    "    \n",
    "    letNum += 1    "
   ]
  }
 ],
 "metadata": {
  "interpreter": {
   "hash": "c85384e4cb51c8b72350f3a8712cc8351fdc3955e32a27f9b60c6242ab125f01"
  },
  "kernelspec": {
   "display_name": "Python 3 (ipykernel)",
   "language": "python",
   "name": "python3"
  },
  "language_info": {
   "codemirror_mode": {
    "name": "ipython",
    "version": 3
   },
   "file_extension": ".py",
   "mimetype": "text/x-python",
   "name": "python",
   "nbconvert_exporter": "python",
   "pygments_lexer": "ipython3",
   "version": "3.12.0"
  }
 },
 "nbformat": 4,
 "nbformat_minor": 4
}
