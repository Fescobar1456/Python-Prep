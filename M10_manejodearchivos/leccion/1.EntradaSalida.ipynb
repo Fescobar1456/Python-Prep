{
 "cells": [
  {
   "cell_type": "code",
   "execution_count": 4,
   "metadata": {},
   "outputs": [
    {
     "name": "stdout",
     "output_type": "stream",
     "text": [
      "Tenemos 3 palabras en este string -> String en python.\n"
     ]
    }
   ],
   "source": [
    "myVar = 'String en python.'\n",
    "num = 3\n",
    "print('Tenemos %d palabras en este string -> %s' %(num, myVar))"
   ]
  },
  {
   "cell_type": "code",
   "execution_count": 5,
   "metadata": {},
   "outputs": [
    {
     "name": "stdout",
     "output_type": "stream",
     "text": [
      "Tu color favorito es Rojo\n"
     ]
    }
   ],
   "source": [
    "color = input('¿Cual es tu color favorito?')\n",
    "print(f'Tu color favorito es {color}')"
   ]
  },
  {
   "cell_type": "code",
   "execution_count": 7,
   "metadata": {},
   "outputs": [
    {
     "name": "stdout",
     "output_type": "stream",
     "text": [
      "<class 'str'>\n"
     ]
    }
   ],
   "source": [
    "numero = input('Ingresa un número pls.')\n",
    "print(type(numero))"
   ]
  }
 ],
 "metadata": {
  "kernelspec": {
   "display_name": "Python 3",
   "language": "python",
   "name": "python3"
  },
  "language_info": {
   "codemirror_mode": {
    "name": "ipython",
    "version": 3
   },
   "file_extension": ".py",
   "mimetype": "text/x-python",
   "name": "python",
   "nbconvert_exporter": "python",
   "pygments_lexer": "ipython3",
   "version": "3.12.0"
  }
 },
 "nbformat": 4,
 "nbformat_minor": 2
}
